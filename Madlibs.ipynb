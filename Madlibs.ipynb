{
 "cells": [
  {
   "cell_type": "code",
   "execution_count": null,
   "metadata": {},
   "outputs": [
    {
     "name": "stdout",
     "output_type": "stream",
     "text": [
      "The Mad Libs have begun!\n"
     ]
    }
   ],
   "source": [
    "\"\"\"\n",
    "This program generates passages that are generated in mad-lib format\n",
    "Author: Katherine \n",
    "\"\"\"\n",
    "\n",
    "# The template for the story\n",
    "\n",
    "STORY = \"This morning %s woke up feeling %s. 'It is going to be a %s day!' Outside, a bunch of %ss were protesting to keep %s in stores. They began to %s to the rhythm of the %s, which made all the %ss very %s. Concerned, %s texted %s, who flew %s to %s and dropped %s in a puddle of frozen %s. %s woke up in the year %s, in a world where %ss ruled the world.\"\n",
    "print(\"The Mad Libs have begun!\")\n",
    "name = input(\"Enter a name: \")\n",
    "adj1 = input(\"Enter an adjective: \")\n",
    "adj2 = input(\"Enter a second adjective: \")\n",
    "adj3 = input(\"Enter a third adjective: \")\n",
    "verb = input(\"Enter a verb: \")\n",
    "noun1 = input(\"Enter a noun: \")\n",
    "noun2 = input(\"Enter a second noun: \")\n",
    "animal = input(\"Enter an animal: \") \n",
    "food = input(\"Enter a food: \")\n",
    "fruit = input(\"Enter a fruit: \")\n",
    "superhero = input(\"Enter a superhero: \")\n",
    "country = input(\"Enter a country: \")\n",
    "dessert = input(\"Enter a dessert: \")\n",
    "year = input(\"Enter a year: \")\n",
    "print (STORY % (name, adj1, adj2, animal, food, verb, noun1, fruit, adj3, name, superhero, name, country, name, dessert, name, year, noun2))\n"
   ]
  }
 ],
 "metadata": {
  "kernelspec": {
   "display_name": "Python 3",
   "language": "python",
   "name": "python3"
  },
  "language_info": {
   "codemirror_mode": {
    "name": "ipython",
    "version": 3
   },
   "file_extension": ".py",
   "mimetype": "text/x-python",
   "name": "python",
   "nbconvert_exporter": "python",
   "pygments_lexer": "ipython3",
   "version": "3.7.3"
  }
 },
 "nbformat": 4,
 "nbformat_minor": 2
}
